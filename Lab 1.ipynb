{
 "cells": [
  {
   "cell_type": "code",
   "execution_count": 1,
   "id": "1db59e72",
   "metadata": {
    "lines_to_next_cell": 2
   },
   "outputs": [
    {
     "name": "stdout",
     "output_type": "stream",
     "text": [
      "Door Opened!\n",
      "Door closed.\n",
      "Door closed.\n",
      "Door closed.\n",
      "Door closed.\n",
      "Door closed.\n",
      "Door closed.\n",
      "Door closed.\n",
      "Door closed.\n",
      "Door closed.\n",
      "Door closed.\n",
      "Door closed.\n",
      "Door closed.\n",
      "Door closed.\n",
      "Door closed.\n",
      "Door closed.\n",
      "Door closed.\n",
      "Door closed.\n",
      "Door closed.\n",
      "Door closed.\n",
      "Door closed.\n",
      "Door closed.\n",
      "Door closed.\n",
      "Door closed.\n",
      "Door closed.\n",
      "Door closed.\n",
      "Door closed.\n",
      "Door closed.\n",
      "Door closed.\n",
      "Door closed.\n",
      "Door closed.\n",
      "Door closed.\n",
      "Door closed.\n",
      "Door closed.\n",
      "Door closed.\n"
     ]
    },
    {
     "ename": "KeyboardInterrupt",
     "evalue": "",
     "output_type": "error",
     "traceback": [
      "\u001b[31m---------------------------------------------------------------------------\u001b[39m",
      "\u001b[31mKeyboardInterrupt\u001b[39m                         Traceback (most recent call last)",
      "\u001b[36mCell\u001b[39m\u001b[36m \u001b[39m\u001b[32mIn[1]\u001b[39m\u001b[32m, line 34\u001b[39m\n\u001b[32m     32\u001b[39m \u001b[38;5;28;01mif\u001b[39;00m \u001b[34m__name__\u001b[39m == \u001b[33m\"\u001b[39m\u001b[33m__main__\u001b[39m\u001b[33m\"\u001b[39m:\n\u001b[32m     33\u001b[39m     detector = PersonDetector()\n\u001b[32m---> \u001b[39m\u001b[32m34\u001b[39m     \u001b[43mdetector\u001b[49m\u001b[43m.\u001b[49m\u001b[43mrun\u001b[49m\u001b[43m(\u001b[49m\u001b[43m)\u001b[49m\n",
      "\u001b[36mCell\u001b[39m\u001b[36m \u001b[39m\u001b[32mIn[1]\u001b[39m\u001b[32m, line 29\u001b[39m, in \u001b[36mPersonDetector.run\u001b[39m\u001b[34m(self)\u001b[39m\n\u001b[32m     27\u001b[39m     \u001b[38;5;28;01mif\u001b[39;00m \u001b[38;5;28mself\u001b[39m.door_open:\n\u001b[32m     28\u001b[39m         \u001b[38;5;28mself\u001b[39m.close_door()\n\u001b[32m---> \u001b[39m\u001b[32m29\u001b[39m \u001b[43mtime\u001b[49m\u001b[43m.\u001b[49m\u001b[43msleep\u001b[49m\u001b[43m(\u001b[49m\u001b[32;43m1\u001b[39;49m\u001b[43m)\u001b[49m\n",
      "\u001b[31mKeyboardInterrupt\u001b[39m: "
     ]
    }
   ],
   "source": [
    "import time\n",
    "import random\n",
    "\n",
    "class PersonDetector:\n",
    "    def __init__(self):\n",
    "        self.door_open = False\n",
    "        \n",
    "    def read_sensor(self):\n",
    " # Simulate smoke detection (10% chance of detecting smoke)\n",
    "        return random.choice([True] * 1 + [False] * 9)\n",
    "        \n",
    "    def open_door(self):\n",
    "        self.door_open = True\n",
    "        print(\"Door Opened!\")\n",
    "        \n",
    "    def close_door(self):\n",
    "        self.alert_active = False\n",
    "        print(\"Door closed.\")\n",
    "        \n",
    "    def run(self):\n",
    "        while True:\n",
    "            person_detected = self.read_sensor()\n",
    "            if person_detected:\n",
    "                if not self.door_open:  # Avoid printing repeatedly\n",
    "                    self.open_door()\n",
    "            else:\n",
    "                if self.door_open:\n",
    "                    self.close_door()\n",
    "            time.sleep(1)  # Check every second\n",
    "    \n",
    "# Run the smoke detector\n",
    "if __name__ == \"__main__\":\n",
    "    detector = PersonDetector()\n",
    "    detector.run()"
   ]
  },
  {
   "cell_type": "code",
   "execution_count": 5,
   "id": "6eee5d18",
   "metadata": {
    "lines_to_next_cell": 2
   },
   "outputs": [
    {
     "name": "stdout",
     "output_type": "stream",
     "text": [
      "Smoke Detector System is active.\n",
      "No smoke detected. All clear.\n",
      "No smoke detected. All clear.\n",
      "No smoke detected. All clear.\n",
      "No smoke detected. All clear.\n",
      "No smoke detected. All clear.\n",
      "No smoke detected. All clear.\n",
      "No smoke detected. All clear.\n",
      "No smoke detected. All clear.\n",
      "No smoke detected. All clear.\n",
      "Alert! Smoke Detected!\n",
      "No smoke detected. All clear.\n",
      "No smoke detected. All clear.\n",
      "No smoke detected. All clear.\n",
      "No smoke detected. All clear.\n",
      "No smoke detected. All clear.\n",
      "No smoke detected. All clear.\n",
      "No smoke detected. All clear.\n",
      "No smoke detected. All clear."
     ]
    },
    {
     "ename": "KeyboardInterrupt",
     "evalue": "",
     "output_type": "error",
     "traceback": [
      "\u001b[31m---------------------------------------------------------------------------\u001b[39m",
      "\u001b[31mKeyboardInterrupt\u001b[39m                         Traceback (most recent call last)",
      "\u001b[36mCell\u001b[39m\u001b[36m \u001b[39m\u001b[32mIn[5]\u001b[39m\u001b[32m, line 34\u001b[39m\n\u001b[32m     32\u001b[39m \u001b[38;5;28;01mif\u001b[39;00m \u001b[34m__name__\u001b[39m == \u001b[33m\"\u001b[39m\u001b[33m__main__\u001b[39m\u001b[33m\"\u001b[39m:\n\u001b[32m     33\u001b[39m     detector = SmokeDetector()\n\u001b[32m---> \u001b[39m\u001b[32m34\u001b[39m     \u001b[43mdetector\u001b[49m\u001b[43m.\u001b[49m\u001b[43mrun\u001b[49m\u001b[43m(\u001b[49m\u001b[43m)\u001b[49m\n",
      "\u001b[36mCell\u001b[39m\u001b[36m \u001b[39m\u001b[32mIn[5]\u001b[39m\u001b[32m, line 28\u001b[39m, in \u001b[36mSmokeDetector.run\u001b[39m\u001b[34m(self)\u001b[39m\n\u001b[32m     26\u001b[39m     \u001b[38;5;28mself\u001b[39m.activate_alert()\n\u001b[32m     27\u001b[39m \u001b[38;5;28;01melse\u001b[39;00m:\n\u001b[32m---> \u001b[39m\u001b[32m28\u001b[39m     \u001b[38;5;28;43mself\u001b[39;49m\u001b[43m.\u001b[49m\u001b[43mdeactivate_alert\u001b[49m\u001b[43m(\u001b[49m\u001b[43m)\u001b[49m\n\u001b[32m     29\u001b[39m time.sleep(\u001b[32m1\u001b[39m)\n",
      "\u001b[36mCell\u001b[39m\u001b[36m \u001b[39m\u001b[32mIn[5]\u001b[39m\u001b[32m, line 18\u001b[39m, in \u001b[36mSmokeDetector.deactivate_alert\u001b[39m\u001b[34m(self)\u001b[39m\n\u001b[32m     16\u001b[39m \u001b[38;5;28;01mdef\u001b[39;00m\u001b[38;5;250m \u001b[39m\u001b[34mdeactivate_alert\u001b[39m(\u001b[38;5;28mself\u001b[39m):\n\u001b[32m     17\u001b[39m     \u001b[38;5;28mself\u001b[39m.alert_active = \u001b[38;5;28;01mFalse\u001b[39;00m\n\u001b[32m---> \u001b[39m\u001b[32m18\u001b[39m     \u001b[38;5;28;43mprint\u001b[39;49m\u001b[43m(\u001b[49m\u001b[33;43m\"\u001b[39;49m\u001b[33;43mNo smoke detected. All clear.\u001b[39;49m\u001b[33;43m\"\u001b[39;49m\u001b[43m)\u001b[49m\n",
      "\u001b[36mFile \u001b[39m\u001b[32mD:\\PY Projects\\CIFAR10_Adversarial\\.venv\\Lib\\site-packages\\IPython\\core\\interactiveshell.py:3045\u001b[39m, in \u001b[36mInteractiveShell._tee.<locals>.write\u001b[39m\u001b[34m(data, *args, **kwargs)\u001b[39m\n\u001b[32m   3043\u001b[39m \u001b[38;5;28;01mdef\u001b[39;00m\u001b[38;5;250m \u001b[39m\u001b[34mwrite\u001b[39m(data, *args, **kwargs):\n\u001b[32m   3044\u001b[39m \u001b[38;5;250m    \u001b[39m\u001b[33;03m\"\"\"Write data to both the original destination and the capture dictionary.\"\"\"\u001b[39;00m\n\u001b[32m-> \u001b[39m\u001b[32m3045\u001b[39m     result = \u001b[43moriginal_write\u001b[49m\u001b[43m(\u001b[49m\u001b[43mdata\u001b[49m\u001b[43m,\u001b[49m\u001b[43m \u001b[49m\u001b[43m*\u001b[49m\u001b[43margs\u001b[49m\u001b[43m,\u001b[49m\u001b[43m \u001b[49m\u001b[43m*\u001b[49m\u001b[43m*\u001b[49m\u001b[43mkwargs\u001b[49m\u001b[43m)\u001b[49m\n\u001b[32m   3046\u001b[39m     \u001b[38;5;28;01mif\u001b[39;00m \u001b[38;5;28many\u001b[39m(\n\u001b[32m   3047\u001b[39m         [\n\u001b[32m   3048\u001b[39m             \u001b[38;5;28mself\u001b[39m.display_pub.is_publishing,\n\u001b[32m   (...)\u001b[39m\u001b[32m   3051\u001b[39m         ]\n\u001b[32m   3052\u001b[39m     ):\n\u001b[32m   3053\u001b[39m         \u001b[38;5;28;01mreturn\u001b[39;00m result\n",
      "\u001b[36mFile \u001b[39m\u001b[32mD:\\PY Projects\\CIFAR10_Adversarial\\.venv\\Lib\\site-packages\\ipykernel\\iostream.py:694\u001b[39m, in \u001b[36mOutStream.write\u001b[39m\u001b[34m(self, string)\u001b[39m\n\u001b[32m    692\u001b[39m     \u001b[38;5;28mself\u001b[39m.pub_thread.schedule(\u001b[38;5;28mself\u001b[39m._flush)\n\u001b[32m    693\u001b[39m \u001b[38;5;28;01melse\u001b[39;00m:\n\u001b[32m--> \u001b[39m\u001b[32m694\u001b[39m     \u001b[38;5;28;43mself\u001b[39;49m\u001b[43m.\u001b[49m\u001b[43m_schedule_flush\u001b[49m\u001b[43m(\u001b[49m\u001b[43m)\u001b[49m\n\u001b[32m    696\u001b[39m \u001b[38;5;28;01mreturn\u001b[39;00m \u001b[38;5;28mlen\u001b[39m(string)\n",
      "\u001b[36mFile \u001b[39m\u001b[32mD:\\PY Projects\\CIFAR10_Adversarial\\.venv\\Lib\\site-packages\\ipykernel\\iostream.py:590\u001b[39m, in \u001b[36mOutStream._schedule_flush\u001b[39m\u001b[34m(self)\u001b[39m\n\u001b[32m    587\u001b[39m \u001b[38;5;28;01mdef\u001b[39;00m\u001b[38;5;250m \u001b[39m\u001b[34m_schedule_in_thread\u001b[39m():\n\u001b[32m    588\u001b[39m     \u001b[38;5;28mself\u001b[39m._io_loop.call_later(\u001b[38;5;28mself\u001b[39m.flush_interval, \u001b[38;5;28mself\u001b[39m._flush)\n\u001b[32m--> \u001b[39m\u001b[32m590\u001b[39m \u001b[38;5;28;43mself\u001b[39;49m\u001b[43m.\u001b[49m\u001b[43mpub_thread\u001b[49m\u001b[43m.\u001b[49m\u001b[43mschedule\u001b[49m\u001b[43m(\u001b[49m\u001b[43m_schedule_in_thread\u001b[49m\u001b[43m)\u001b[49m\n",
      "\u001b[36mFile \u001b[39m\u001b[32mD:\\PY Projects\\CIFAR10_Adversarial\\.venv\\Lib\\site-packages\\ipykernel\\iostream.py:267\u001b[39m, in \u001b[36mIOPubThread.schedule\u001b[39m\u001b[34m(self, f)\u001b[39m\n\u001b[32m    265\u001b[39m     \u001b[38;5;28mself\u001b[39m._events.append(f)\n\u001b[32m    266\u001b[39m     \u001b[38;5;66;03m# wake event thread (message content is ignored)\u001b[39;00m\n\u001b[32m--> \u001b[39m\u001b[32m267\u001b[39m     \u001b[38;5;28;43mself\u001b[39;49m\u001b[43m.\u001b[49m\u001b[43m_event_pipe\u001b[49m\u001b[43m.\u001b[49m\u001b[43msend\u001b[49m\u001b[43m(\u001b[49m\u001b[33;43mb\u001b[39;49m\u001b[33;43m\"\u001b[39;49m\u001b[33;43m\"\u001b[39;49m\u001b[43m)\u001b[49m\n\u001b[32m    268\u001b[39m \u001b[38;5;28;01melse\u001b[39;00m:\n\u001b[32m    269\u001b[39m     f()\n",
      "\u001b[36mFile \u001b[39m\u001b[32mD:\\PY Projects\\CIFAR10_Adversarial\\.venv\\Lib\\site-packages\\zmq\\sugar\\socket.py:698\u001b[39m, in \u001b[36mSocket.send\u001b[39m\u001b[34m(self, data, flags, copy, track, routing_id, group)\u001b[39m\n\u001b[32m    691\u001b[39m         data = zmq.Frame(\n\u001b[32m    692\u001b[39m             data,\n\u001b[32m    693\u001b[39m             track=track,\n\u001b[32m    694\u001b[39m             copy=copy \u001b[38;5;129;01mor\u001b[39;00m \u001b[38;5;28;01mNone\u001b[39;00m,\n\u001b[32m    695\u001b[39m             copy_threshold=\u001b[38;5;28mself\u001b[39m.copy_threshold,\n\u001b[32m    696\u001b[39m         )\n\u001b[32m    697\u001b[39m     data.group = group\n\u001b[32m--> \u001b[39m\u001b[32m698\u001b[39m \u001b[38;5;28;01mreturn\u001b[39;00m \u001b[38;5;28;43msuper\u001b[39;49m\u001b[43m(\u001b[49m\u001b[43m)\u001b[49m\u001b[43m.\u001b[49m\u001b[43msend\u001b[49m\u001b[43m(\u001b[49m\u001b[43mdata\u001b[49m\u001b[43m,\u001b[49m\u001b[43m \u001b[49m\u001b[43mflags\u001b[49m\u001b[43m=\u001b[49m\u001b[43mflags\u001b[49m\u001b[43m,\u001b[49m\u001b[43m \u001b[49m\u001b[43mcopy\u001b[49m\u001b[43m=\u001b[49m\u001b[43mcopy\u001b[49m\u001b[43m,\u001b[49m\u001b[43m \u001b[49m\u001b[43mtrack\u001b[49m\u001b[43m=\u001b[49m\u001b[43mtrack\u001b[49m\u001b[43m)\u001b[49m\n",
      "\u001b[36mFile \u001b[39m\u001b[32mD:\\PY Projects\\CIFAR10_Adversarial\\.venv\\Lib\\site-packages\\zmq\\backend\\cython\\_zmq.py:1147\u001b[39m, in \u001b[36mzmq.backend.cython._zmq.Socket.send\u001b[39m\u001b[34m()\u001b[39m\n\u001b[32m   1144\u001b[39m     rc: C.int = zmq_leave(\u001b[38;5;28mself\u001b[39m.handle, group)\n\u001b[32m   1145\u001b[39m     _check_rc(rc)\n\u001b[32m-> \u001b[39m\u001b[32m1147\u001b[39m \u001b[38;5;28;01mdef\u001b[39;00m\u001b[38;5;250m \u001b[39m\u001b[34msend\u001b[39m(\u001b[38;5;28mself\u001b[39m, data, flags=\u001b[32m0\u001b[39m, copy: bint = \u001b[38;5;28;01mTrue\u001b[39;00m, track: bint = \u001b[38;5;28;01mFalse\u001b[39;00m):\n\u001b[32m   1148\u001b[39m \u001b[38;5;250m    \u001b[39m\u001b[33;03m\"\"\"\u001b[39;00m\n\u001b[32m   1149\u001b[39m \u001b[33;03m    Send a single zmq message frame on this socket.\u001b[39;00m\n\u001b[32m   1150\u001b[39m \n\u001b[32m   (...)\u001b[39m\u001b[32m   1187\u001b[39m \n\u001b[32m   1188\u001b[39m \u001b[33;03m    \"\"\"\u001b[39;00m\n\u001b[32m   1189\u001b[39m     _check_closed(\u001b[38;5;28mself\u001b[39m)\n",
      "\u001b[36mFile \u001b[39m\u001b[32mD:\\PY Projects\\CIFAR10_Adversarial\\.venv\\Lib\\site-packages\\zmq\\backend\\cython\\_zmq.py:1195\u001b[39m, in \u001b[36mzmq.backend.cython._zmq.Socket.send\u001b[39m\u001b[34m()\u001b[39m\n\u001b[32m   1192\u001b[39m     \u001b[38;5;28;01mraise\u001b[39;00m \u001b[38;5;167;01mTypeError\u001b[39;00m(\u001b[33m\"\u001b[39m\u001b[33municode not allowed, use send_string\u001b[39m\u001b[33m\"\u001b[39m)\n\u001b[32m   1194\u001b[39m \u001b[38;5;28;01mif\u001b[39;00m copy \u001b[38;5;129;01mand\u001b[39;00m \u001b[38;5;129;01mnot\u001b[39;00m \u001b[38;5;28misinstance\u001b[39m(data, Frame):\n\u001b[32m-> \u001b[39m\u001b[32m1195\u001b[39m     \u001b[38;5;28;01mreturn\u001b[39;00m _send_copy(\u001b[38;5;28mself\u001b[39m.handle, data, flags)\n\u001b[32m   1196\u001b[39m \u001b[38;5;28;01melse\u001b[39;00m:\n\u001b[32m   1197\u001b[39m     \u001b[38;5;28;01mif\u001b[39;00m \u001b[38;5;28misinstance\u001b[39m(data, Frame):\n",
      "\u001b[36mFile \u001b[39m\u001b[32mD:\\PY Projects\\CIFAR10_Adversarial\\.venv\\Lib\\site-packages\\zmq\\backend\\cython\\_zmq.py:1463\u001b[39m, in \u001b[36mzmq.backend.cython._zmq._send_copy\u001b[39m\u001b[34m()\u001b[39m\n\u001b[32m   1461\u001b[39m     rc = zmq_msg_send(address(msg), handle, flags)\n\u001b[32m   1462\u001b[39m \u001b[38;5;28;01mtry\u001b[39;00m:\n\u001b[32m-> \u001b[39m\u001b[32m1463\u001b[39m     _check_rc(rc)\n\u001b[32m   1464\u001b[39m \u001b[38;5;28;01mexcept\u001b[39;00m InterruptedSystemCall:\n\u001b[32m   1465\u001b[39m     \u001b[38;5;28;01mcontinue\u001b[39;00m\n",
      "\u001b[36mFile \u001b[39m\u001b[32mD:\\PY Projects\\CIFAR10_Adversarial\\.venv\\Lib\\site-packages\\zmq\\backend\\cython\\_zmq.py:176\u001b[39m, in \u001b[36mzmq.backend.cython._zmq._check_rc\u001b[39m\u001b[34m()\u001b[39m\n\u001b[32m    171\u001b[39m \u001b[38;5;250m\u001b[39m\u001b[33;03m\"\"\"internal utility for checking zmq return condition\u001b[39;00m\n\u001b[32m    172\u001b[39m \n\u001b[32m    173\u001b[39m \u001b[33;03mand raising the appropriate Exception class\u001b[39;00m\n\u001b[32m    174\u001b[39m \u001b[33;03m\"\"\"\u001b[39;00m\n\u001b[32m    175\u001b[39m errno: C.int = _zmq_errno()\n\u001b[32m--> \u001b[39m\u001b[32m176\u001b[39m PyErr_CheckSignals()\n\u001b[32m    177\u001b[39m \u001b[38;5;28;01mif\u001b[39;00m errno == \u001b[32m0\u001b[39m \u001b[38;5;129;01mand\u001b[39;00m \u001b[38;5;129;01mnot\u001b[39;00m error_without_errno:\n\u001b[32m    178\u001b[39m     \u001b[38;5;28;01mreturn\u001b[39;00m \u001b[32m0\u001b[39m\n",
      "\u001b[31mKeyboardInterrupt\u001b[39m: "
     ]
    }
   ],
   "source": [
    "import time\n",
    "import random\n",
    "\n",
    "class SmokeDetector:\n",
    "    def __init__(self):\n",
    "        self.alert_active = False\n",
    "        \n",
    "    def read_sensor(self):\n",
    " # Simulate smoke detection (10% chance of detecting smoke)\n",
    "        return random.choice([True] * 1 + [False] * 9)\n",
    "\n",
    "    def activate_alert(self):\n",
    "        self.alert_active = True\n",
    "        print(\"Alert! Smoke Detected!\")\n",
    "        \n",
    "    def deactivate_alert(self):\n",
    "        self.alert_active = False\n",
    "        print(\"No smoke detected. All clear.\")\n",
    "        \n",
    "    def run(self):\n",
    "        print(\"Smoke Detector System is active.\")\n",
    "\n",
    "        while True:\n",
    "            smoke_detected =self.read_sensor()\n",
    "            if smoke_detected:\n",
    "                self.activate_alert()\n",
    "            else:\n",
    "                self.deactivate_alert()\n",
    "            time.sleep(1) # Check every second\n",
    "# Run the smoke detector\n",
    "    \n",
    "if __name__ == \"__main__\":\n",
    "    detector = SmokeDetector()\n",
    "    detector.run()"
   ]
  },
  {
   "cell_type": "code",
   "execution_count": null,
   "id": "a1198dac",
   "metadata": {},
   "outputs": [],
   "source": []
  }
 ],
 "metadata": {
  "jupytext": {
   "cell_metadata_filter": "-all",
   "main_language": "python",
   "notebook_metadata_filter": "-all"
  },
  "kernelspec": {
   "display_name": "Python (CIFAR10)",
   "language": "python",
   "name": "cifar10"
  },
  "language_info": {
   "codemirror_mode": {
    "name": "ipython",
    "version": 3
   },
   "file_extension": ".py",
   "mimetype": "text/x-python",
   "name": "python",
   "nbconvert_exporter": "python",
   "pygments_lexer": "ipython3",
   "version": "3.12.10"
  }
 },
 "nbformat": 4,
 "nbformat_minor": 5
}
