{
 "cells": [
  {
   "cell_type": "markdown",
   "id": "c98ed039",
   "metadata": {},
   "source": [
    "# MINIMAX - TickTackToe"
   ]
  },
  {
   "cell_type": "code",
   "execution_count": 3,
   "id": "5a756bef",
   "metadata": {},
   "outputs": [
    {
     "name": "stdout",
     "output_type": "stream",
     "text": [
      "  |   |  \n",
      "-----\n",
      "  |   |  \n",
      "-----\n",
      "  |   |  \n",
      "-----\n"
     ]
    },
    {
     "name": "stdin",
     "output_type": "stream",
     "text": [
      "Player X, enter row and column (0-2):  2 2\n"
     ]
    },
    {
     "name": "stdout",
     "output_type": "stream",
     "text": [
      "  |   |  \n",
      "-----\n",
      "  |   |  \n",
      "-----\n",
      "  |   | X\n",
      "-----\n"
     ]
    },
    {
     "name": "stdin",
     "output_type": "stream",
     "text": [
      "Player O, enter row and column (0-2):  1 1\n"
     ]
    },
    {
     "name": "stdout",
     "output_type": "stream",
     "text": [
      "  |   |  \n",
      "-----\n",
      "  | O |  \n",
      "-----\n",
      "  |   | X\n",
      "-----\n"
     ]
    },
    {
     "name": "stdin",
     "output_type": "stream",
     "text": [
      "Player X, enter row and column (0-2):  0 2\n"
     ]
    },
    {
     "name": "stdout",
     "output_type": "stream",
     "text": [
      "  |   | X\n",
      "-----\n",
      "  | O |  \n",
      "-----\n",
      "  |   | X\n",
      "-----\n"
     ]
    },
    {
     "name": "stdin",
     "output_type": "stream",
     "text": [
      "Player O, enter row and column (0-2):  1 2\n"
     ]
    },
    {
     "name": "stdout",
     "output_type": "stream",
     "text": [
      "  |   | X\n",
      "-----\n",
      "  | O | O\n",
      "-----\n",
      "  |   | X\n",
      "-----\n"
     ]
    },
    {
     "name": "stdin",
     "output_type": "stream",
     "text": [
      "Player X, enter row and column (0-2):  1 0\n"
     ]
    },
    {
     "name": "stdout",
     "output_type": "stream",
     "text": [
      "  |   | X\n",
      "-----\n",
      "X | O | O\n",
      "-----\n",
      "  |   | X\n",
      "-----\n"
     ]
    },
    {
     "name": "stdin",
     "output_type": "stream",
     "text": [
      "Player O, enter row and column (0-2):  0 1\n"
     ]
    },
    {
     "name": "stdout",
     "output_type": "stream",
     "text": [
      "  | O | X\n",
      "-----\n",
      "X | O | O\n",
      "-----\n",
      "  |   | X\n",
      "-----\n"
     ]
    },
    {
     "name": "stdin",
     "output_type": "stream",
     "text": [
      "Player X, enter row and column (0-2):  2 1\n"
     ]
    },
    {
     "name": "stdout",
     "output_type": "stream",
     "text": [
      "  | O | X\n",
      "-----\n",
      "X | O | O\n",
      "-----\n",
      "  | X | X\n",
      "-----\n"
     ]
    },
    {
     "name": "stdin",
     "output_type": "stream",
     "text": [
      "Player O, enter row and column (0-2):  2 0\n"
     ]
    },
    {
     "name": "stdout",
     "output_type": "stream",
     "text": [
      "  | O | X\n",
      "-----\n",
      "X | O | O\n",
      "-----\n",
      "O | X | X\n",
      "-----\n"
     ]
    },
    {
     "name": "stdin",
     "output_type": "stream",
     "text": [
      "Player X, enter row and column (0-2):  0 0\n"
     ]
    },
    {
     "name": "stdout",
     "output_type": "stream",
     "text": [
      "X | O | X\n",
      "-----\n",
      "X | O | O\n",
      "-----\n",
      "O | X | X\n",
      "-----\n",
      "It's a draw!\n"
     ]
    }
   ],
   "source": [
    "board = [[\" \" for _ in range(3)] for _ in range(3)] \n",
    "\n",
    "def print_board(): \n",
    "    for row in board: \n",
    "        print(\" | \".join(row)) \n",
    "        print(\"-\" * 5) \n",
    "        \n",
    "\"\"\" Function to check for a win (checks if the current player has won by checking rows, columns, and diagonals.) \"\"\"\n",
    "def check_win(player): \n",
    "    for i in range(3): \n",
    "        \n",
    "        \"\"\" Check rows and columns \"\"\"\n",
    "        if all([board[i][j] == player for j in range(3)]) or all([board[j][i] == player for j in range(3)]): \n",
    "            return True \n",
    "\n",
    "        # Check diagonals \n",
    "    if board[0][0] == board[1][1] == board[2][2] == player or board[0][2] == board[1][1] == board[2][0] == player: \n",
    "        return True \n",
    "    return False \n",
    "\n",
    "# Function to check if the board is full (draw), (checks if the board is full (no empty spaces left) and no player has  won, which results in a draw.) \n",
    "def is_full(): \n",
    "    return all(cell != \" \" for row in board for cell in row)\n",
    "\n",
    "# Function to handle the player's move (ask the current player to input row and column (0-2).it checks if the selected cell is empty before placing the player symbol) \n",
    "def player_move(player): \n",
    "    while True: \n",
    "        row, col = map(int, input(f\"Player {player}, enter row and column (0-2): \").split()) \n",
    "        if board[row][col] == \" \": \n",
    "            board[row][col] = player \n",
    "            break \n",
    "        print(\"Cell is already occupied! Try again.\") \n",
    " \n",
    "# Main game loop \n",
    "def play_game(): \n",
    "    player = \"X\" \n",
    "    while True: \n",
    "        print_board() \n",
    "        player_move(player) \n",
    "        if check_win(player): \n",
    "            print_board() \n",
    "            print(f\"Player {player} wins!\") \n",
    "            break \n",
    "        if is_full(): \n",
    "            print_board() \n",
    "            print(\"It's a draw!\") \n",
    "            break \n",
    "        player = \"O\" if player == \"X\" else \"X\"  # Switch players \n",
    "play_game()   "
   ]
  },
  {
   "cell_type": "markdown",
   "id": "041969d6",
   "metadata": {},
   "source": [
    "# CONNECT FOUR"
   ]
  },
  {
   "cell_type": "code",
   "execution_count": 5,
   "id": "3bf472a4",
   "metadata": {},
   "outputs": [
    {
     "name": "stdout",
     "output_type": "stream",
     "text": [
      "[[0. 0. 0. 0. 0. 0. 0.]\n",
      " [0. 0. 0. 0. 0. 0. 0.]\n",
      " [0. 0. 0. 0. 0. 0. 0.]\n",
      " [0. 0. 0. 0. 0. 0. 0.]\n",
      " [0. 0. 0. 0. 0. 0. 0.]\n",
      " [0. 0. 0. 0. 0. 0. 0.]]\n"
     ]
    },
    {
     "name": "stdin",
     "output_type": "stream",
     "text": [
      "Player 1 Make your Selection (0-6):  5\n"
     ]
    },
    {
     "name": "stdout",
     "output_type": "stream",
     "text": [
      "[[0. 0. 0. 0. 0. 0. 0.]\n",
      " [0. 0. 0. 0. 0. 0. 0.]\n",
      " [0. 0. 0. 0. 0. 0. 0.]\n",
      " [0. 0. 0. 0. 0. 0. 0.]\n",
      " [0. 0. 0. 0. 0. 0. 0.]\n",
      " [0. 0. 0. 0. 0. 1. 0.]]\n"
     ]
    },
    {
     "name": "stdin",
     "output_type": "stream",
     "text": [
      "Player 2 Make your Selection (0-6):  1\n"
     ]
    },
    {
     "name": "stdout",
     "output_type": "stream",
     "text": [
      "[[0. 0. 0. 0. 0. 0. 0.]\n",
      " [0. 0. 0. 0. 0. 0. 0.]\n",
      " [0. 0. 0. 0. 0. 0. 0.]\n",
      " [0. 0. 0. 0. 0. 0. 0.]\n",
      " [0. 0. 0. 0. 0. 0. 0.]\n",
      " [0. 2. 0. 0. 0. 1. 0.]]\n"
     ]
    },
    {
     "name": "stdin",
     "output_type": "stream",
     "text": [
      "Player 1 Make your Selection (0-6):  6\n"
     ]
    },
    {
     "name": "stdout",
     "output_type": "stream",
     "text": [
      "[[0. 0. 0. 0. 0. 0. 0.]\n",
      " [0. 0. 0. 0. 0. 0. 0.]\n",
      " [0. 0. 0. 0. 0. 0. 0.]\n",
      " [0. 0. 0. 0. 0. 0. 0.]\n",
      " [0. 0. 0. 0. 0. 0. 0.]\n",
      " [0. 2. 0. 0. 0. 1. 1.]]\n"
     ]
    },
    {
     "name": "stdin",
     "output_type": "stream",
     "text": [
      "Player 2 Make your Selection (0-6):  0\n"
     ]
    },
    {
     "name": "stdout",
     "output_type": "stream",
     "text": [
      "[[0. 0. 0. 0. 0. 0. 0.]\n",
      " [0. 0. 0. 0. 0. 0. 0.]\n",
      " [0. 0. 0. 0. 0. 0. 0.]\n",
      " [0. 0. 0. 0. 0. 0. 0.]\n",
      " [0. 0. 0. 0. 0. 0. 0.]\n",
      " [2. 2. 0. 0. 0. 1. 1.]]\n"
     ]
    },
    {
     "name": "stdin",
     "output_type": "stream",
     "text": [
      "Player 1 Make your Selection (0-6):  4\n"
     ]
    },
    {
     "name": "stdout",
     "output_type": "stream",
     "text": [
      "[[0. 0. 0. 0. 0. 0. 0.]\n",
      " [0. 0. 0. 0. 0. 0. 0.]\n",
      " [0. 0. 0. 0. 0. 0. 0.]\n",
      " [0. 0. 0. 0. 0. 0. 0.]\n",
      " [0. 0. 0. 0. 0. 0. 0.]\n",
      " [2. 2. 0. 0. 1. 1. 1.]]\n"
     ]
    },
    {
     "name": "stdin",
     "output_type": "stream",
     "text": [
      "Player 2 Make your Selection (0-6):  6\n"
     ]
    },
    {
     "name": "stdout",
     "output_type": "stream",
     "text": [
      "[[0. 0. 0. 0. 0. 0. 0.]\n",
      " [0. 0. 0. 0. 0. 0. 0.]\n",
      " [0. 0. 0. 0. 0. 0. 0.]\n",
      " [0. 0. 0. 0. 0. 0. 0.]\n",
      " [0. 0. 0. 0. 0. 0. 2.]\n",
      " [2. 2. 0. 0. 1. 1. 1.]]\n"
     ]
    },
    {
     "name": "stdin",
     "output_type": "stream",
     "text": [
      "Player 1 Make your Selection (0-6):  3\n"
     ]
    },
    {
     "name": "stdout",
     "output_type": "stream",
     "text": [
      "[[0. 0. 0. 0. 0. 0. 0.]\n",
      " [0. 0. 0. 0. 0. 0. 0.]\n",
      " [0. 0. 0. 0. 0. 0. 0.]\n",
      " [0. 0. 0. 0. 0. 0. 0.]\n",
      " [0. 0. 0. 0. 0. 0. 2.]\n",
      " [2. 2. 0. 1. 1. 1. 1.]]\n",
      "Player 1 wins!\n",
      "[[0. 0. 0. 0. 0. 0. 0.]\n",
      " [0. 0. 0. 0. 0. 0. 0.]\n",
      " [0. 0. 0. 0. 0. 0. 0.]\n",
      " [0. 0. 0. 0. 0. 0. 0.]\n",
      " [0. 0. 0. 0. 0. 0. 2.]\n",
      " [2. 2. 0. 1. 1. 1. 1.]]\n"
     ]
    }
   ],
   "source": [
    "import numpy as np\n",
    "\n",
    "# Constants\n",
    "ROW_COUNT = 6\n",
    "COLUMN_COUNT = 7\n",
    "\n",
    "# Create the board\n",
    "def create_board():\n",
    "    return np.zeros((ROW_COUNT, COLUMN_COUNT))\n",
    "\n",
    "# Drop a piece in the board\n",
    "def drop_piece(board, row, col, piece):\n",
    "    board[row][col] = piece\n",
    "\n",
    "# Check if the column is valid for a move\n",
    "def is_valid_location(board, col):\n",
    "    return board[ROW_COUNT - 1][col] == 0\n",
    "\n",
    "# Get the next open row in the column\n",
    "def get_next_open_row(board, col):\n",
    "    for r in range(ROW_COUNT):\n",
    "        if board[r][col] == 0:\n",
    "            return r\n",
    "\n",
    "# Print the board\n",
    "def print_board(board):\n",
    "    print(np.flip(board, 0))\n",
    "\n",
    "# Check for a win condition\n",
    "def winning_move(board, piece):\n",
    "    # Check horizontal locations\n",
    "    for c in range(COLUMN_COUNT - 3):\n",
    "        for r in range(ROW_COUNT):\n",
    "            if (board[r][c] == piece and board[r][c + 1] == piece and \n",
    "                board[r][c + 2] == piece and board[r][c + 3] == piece):\n",
    "                return True\n",
    "\n",
    "    # Check vertical locations\n",
    "    for c in range(COLUMN_COUNT):\n",
    "        for r in range(ROW_COUNT - 3):\n",
    "            if (board[r][c] == piece and board[r + 1][c] == piece and \n",
    "                board[r + 2][c] == piece and board[r + 3][c] == piece):\n",
    "                return True\n",
    "\n",
    "    # Check positively sloped diagonals\n",
    "    for c in range(COLUMN_COUNT - 3):\n",
    "        for r in range(ROW_COUNT - 3):\n",
    "            if (board[r][c] == piece and board[r + 1][c + 1] == piece and \n",
    "                board[r + 2][c + 2] == piece and board[r + 3][c + 3] == piece):\n",
    "                return True\n",
    "\n",
    "    # Check negatively sloped diagonals\n",
    "    for c in range(COLUMN_COUNT - 3):\n",
    "        for r in range(3, ROW_COUNT):\n",
    "            if (board[r][c] == piece and board[r - 1][c + 1] == piece and \n",
    "                board[r - 2][c + 2] == piece and board[r - 3][c + 3] == piece):\n",
    "                return True\n",
    "\n",
    "# Main function to run the game\n",
    "def play_game():\n",
    "    board = create_board()\n",
    "    game_over = False\n",
    "    turn = 0\n",
    "    \n",
    "    print_board(board)\n",
    "\n",
    "    while not game_over:\n",
    "        # Ask for Player Input\n",
    "        if turn == 0:\n",
    "            col = int(input(\"Player 1 Make your Selection (0-6): \")) \n",
    "            piece = 1\n",
    "        else:\n",
    "            col = int(input(\"Player 2 Make your Selection (0-6): \")) \n",
    "            piece = 2\n",
    "\n",
    "        if is_valid_location(board, col):\n",
    "            row = get_next_open_row(board, col)\n",
    "            drop_piece(board, row, col, piece)\n",
    "\n",
    "            if winning_move(board, piece):\n",
    "                print_board(board)\n",
    "                print(f\"Player {piece} wins!\")\n",
    "                game_over = True\n",
    "        \n",
    "        print_board(board)\n",
    "        turn += 1\n",
    "        turn %= 2\n",
    "\n",
    "# Start the game\n",
    "if __name__ == \"__main__\":\n",
    "    play_game()\n"
   ]
  },
  {
   "cell_type": "markdown",
   "id": "b0d5e74c",
   "metadata": {},
   "source": [
    "# ALPHA BETA PRUNING"
   ]
  },
  {
   "cell_type": "code",
   "execution_count": 12,
   "id": "c1945133",
   "metadata": {},
   "outputs": [
    {
     "name": "stdout",
     "output_type": "stream",
     "text": [
      "  0 1 2 3 4 5 6 7\n",
      "0                \n",
      "1                \n",
      "2                \n",
      "3       O X      \n",
      "4       X O      \n",
      "5                \n",
      "6                \n",
      "7                \n",
      "Your turn! Valid moves: [(2, 3), (3, 2), (4, 5), (5, 4)]\n"
     ]
    },
    {
     "name": "stdin",
     "output_type": "stream",
     "text": [
      "Enter row and col (e.g., 2 3):  6 4\n"
     ]
    },
    {
     "name": "stdout",
     "output_type": "stream",
     "text": [
      "Invalid move, try again.\n",
      "  0 1 2 3 4 5 6 7\n",
      "0                \n",
      "1                \n",
      "2                \n",
      "3       O X      \n",
      "4       X O      \n",
      "5                \n",
      "6                \n",
      "7                \n",
      "Your turn! Valid moves: [(2, 3), (3, 2), (4, 5), (5, 4)]\n"
     ]
    },
    {
     "name": "stdin",
     "output_type": "stream",
     "text": [
      "Enter row and col (e.g., 2 3):  5 4\n"
     ]
    },
    {
     "name": "stdout",
     "output_type": "stream",
     "text": [
      "  0 1 2 3 4 5 6 7\n",
      "0                \n",
      "1                \n",
      "2                \n",
      "3       O X      \n",
      "4       X X      \n",
      "5         X      \n",
      "6                \n",
      "7                \n",
      "AI thinking...\n",
      "AI plays: (3, 5)\n",
      "  0 1 2 3 4 5 6 7\n",
      "0                \n",
      "1                \n",
      "2                \n",
      "3       O O O    \n",
      "4       X X      \n",
      "5         X      \n",
      "6                \n",
      "7                \n",
      "Your turn! Valid moves: [(2, 2), (2, 3), (2, 4), (2, 5), (2, 6)]\n"
     ]
    },
    {
     "name": "stdin",
     "output_type": "stream",
     "text": [
      "Enter row and col (e.g., 2 3):  2 6\n"
     ]
    },
    {
     "name": "stdout",
     "output_type": "stream",
     "text": [
      "  0 1 2 3 4 5 6 7\n",
      "0                \n",
      "1                \n",
      "2             X  \n",
      "3       O O X    \n",
      "4       X X      \n",
      "5         X      \n",
      "6                \n",
      "7                \n",
      "AI thinking...\n",
      "AI plays: (3, 6)\n",
      "  0 1 2 3 4 5 6 7\n",
      "0                \n",
      "1                \n",
      "2             X  \n",
      "3       O O O O  \n",
      "4       X X      \n",
      "5         X      \n",
      "6                \n",
      "7                \n",
      "Your turn! Valid moves: [(2, 2), (2, 3), (2, 4), (2, 5), (4, 6)]\n"
     ]
    },
    {
     "name": "stdin",
     "output_type": "stream",
     "text": [
      "Enter row and col (e.g., 2 3):  4 6\n"
     ]
    },
    {
     "name": "stdout",
     "output_type": "stream",
     "text": [
      "  0 1 2 3 4 5 6 7\n",
      "0                \n",
      "1                \n",
      "2             X  \n",
      "3       O O O X  \n",
      "4       X X   X  \n",
      "5         X      \n",
      "6                \n",
      "7                \n",
      "AI thinking...\n",
      "AI plays: (3, 7)\n",
      "  0 1 2 3 4 5 6 7\n",
      "0                \n",
      "1                \n",
      "2             X  \n",
      "3       O O O O O\n",
      "4       X X   X  \n",
      "5         X      \n",
      "6                \n",
      "7                \n",
      "Your turn! Valid moves: [(2, 2), (2, 3), (2, 4), (2, 5)]\n"
     ]
    },
    {
     "name": "stdin",
     "output_type": "stream",
     "text": [
      "Enter row and col (e.g., 2 3):  2 5\n"
     ]
    },
    {
     "name": "stdout",
     "output_type": "stream",
     "text": [
      "  0 1 2 3 4 5 6 7\n",
      "0                \n",
      "1                \n",
      "2           X X  \n",
      "3       O X O O O\n",
      "4       X X   X  \n",
      "5         X      \n",
      "6                \n",
      "7                \n",
      "AI thinking...\n",
      "AI plays: (1, 4)\n",
      "  0 1 2 3 4 5 6 7\n",
      "0                \n",
      "1         O      \n",
      "2           O X  \n",
      "3       O X O O O\n",
      "4       X X   X  \n",
      "5         X      \n",
      "6                \n",
      "7                \n",
      "Your turn! Valid moves: [(1, 6), (2, 2), (2, 3), (2, 4), (3, 2)]\n"
     ]
    },
    {
     "name": "stdin",
     "output_type": "stream",
     "text": [
      "Enter row and col (e.g., 2 3):  1 6\n"
     ]
    },
    {
     "name": "stdout",
     "output_type": "stream",
     "text": [
      "  0 1 2 3 4 5 6 7\n",
      "0                \n",
      "1         O   X  \n",
      "2           X X  \n",
      "3       O X O O O\n",
      "4       X X   X  \n",
      "5         X      \n",
      "6                \n",
      "7                \n",
      "AI thinking...\n",
      "AI plays: (0, 6)\n",
      "  0 1 2 3 4 5 6 7\n",
      "0             O  \n",
      "1         O   O  \n",
      "2           X O  \n",
      "3       O X O O O\n",
      "4       X X   X  \n",
      "5         X      \n",
      "6                \n",
      "7                \n",
      "Your turn! Valid moves: [(0, 3), (0, 7), (1, 7), (2, 2), (2, 3), (2, 4), (2, 7), (3, 2), (4, 5), (4, 7)]\n"
     ]
    },
    {
     "name": "stdin",
     "output_type": "stream",
     "text": [
      "Enter row and col (e.g., 2 3):  0 7\n"
     ]
    },
    {
     "name": "stdout",
     "output_type": "stream",
     "text": [
      "  0 1 2 3 4 5 6 7\n",
      "0             O X\n",
      "1         O   X  \n",
      "2           X O  \n",
      "3       O X O O O\n",
      "4       X X   X  \n",
      "5         X      \n",
      "6                \n",
      "7                \n",
      "AI thinking...\n",
      "AI plays: (5, 5)\n",
      "  0 1 2 3 4 5 6 7\n",
      "0             O X\n",
      "1         O   X  \n",
      "2           X O  \n",
      "3       O X O O O\n",
      "4       X O   O  \n",
      "5         X O    \n",
      "6                \n",
      "7                \n",
      "Your turn! Valid moves: [(0, 3), (0, 5), (2, 3), (2, 7), (3, 2), (4, 5), (4, 7), (5, 6)]\n"
     ]
    },
    {
     "name": "stdin",
     "output_type": "stream",
     "text": [
      "Enter row and col (e.g., 2 3):  0 5\n"
     ]
    },
    {
     "name": "stdout",
     "output_type": "stream",
     "text": [
      "  0 1 2 3 4 5 6 7\n",
      "0           X X X\n",
      "1         O   X  \n",
      "2           X O  \n",
      "3       O X O O O\n",
      "4       X O   O  \n",
      "5         X O    \n",
      "6                \n",
      "7                \n",
      "AI thinking...\n",
      "AI plays: (2, 4)\n",
      "  0 1 2 3 4 5 6 7\n",
      "0           X X X\n",
      "1         O   X  \n",
      "2         O O O  \n",
      "3       O O O O O\n",
      "4       X O   O  \n",
      "5         X O    \n",
      "6                \n",
      "7                \n",
      "Your turn! Valid moves: [(0, 4), (2, 3), (4, 5), (5, 6)]\n"
     ]
    },
    {
     "name": "stdin",
     "output_type": "stream",
     "text": [
      "Enter row and col (e.g., 2 3):  5 6\n"
     ]
    },
    {
     "name": "stdout",
     "output_type": "stream",
     "text": [
      "  0 1 2 3 4 5 6 7\n",
      "0           X X X\n",
      "1         O   X  \n",
      "2         O O X  \n",
      "3       O O O X O\n",
      "4       X O   X  \n",
      "5         X X X  \n",
      "6                \n",
      "7                \n",
      "AI thinking...\n",
      "AI plays: (1, 7)\n",
      "  0 1 2 3 4 5 6 7\n",
      "0           X X X\n",
      "1         O   X O\n",
      "2         O O O  \n",
      "3       O O O X O\n",
      "4       X O   X  \n",
      "5         X X X  \n",
      "6                \n",
      "7                \n",
      "Your turn! Valid moves: [(0, 3), (0, 4), (1, 3), (2, 2), (2, 3), (2, 7), (3, 2), (4, 5)]\n"
     ]
    },
    {
     "name": "stdin",
     "output_type": "stream",
     "text": [
      "Enter row and col (e.g., 2 3):  4 5\n"
     ]
    },
    {
     "name": "stdout",
     "output_type": "stream",
     "text": [
      "  0 1 2 3 4 5 6 7\n",
      "0           X X X\n",
      "1         O   X O\n",
      "2         O O O  \n",
      "3       O O O X O\n",
      "4       X X X X  \n",
      "5         X X X  \n",
      "6                \n",
      "7                \n",
      "AI thinking...\n",
      "AI plays: (6, 4)\n",
      "  0 1 2 3 4 5 6 7\n",
      "0           X X X\n",
      "1         O   X O\n",
      "2         O O O  \n",
      "3       O O O X O\n",
      "4       X O X O  \n",
      "5         O O X  \n",
      "6         O      \n",
      "7                \n",
      "Your turn! Valid moves: [(0, 3), (1, 5), (2, 3), (2, 7), (3, 2), (4, 7), (5, 3), (6, 3), (6, 5)]\n"
     ]
    },
    {
     "name": "stdin",
     "output_type": "stream",
     "text": [
      "Enter row and col (e.g., 2 3):  4 7\n"
     ]
    },
    {
     "name": "stdout",
     "output_type": "stream",
     "text": [
      "  0 1 2 3 4 5 6 7\n",
      "0           X X X\n",
      "1         O   X O\n",
      "2         O O O  \n",
      "3       O O O X O\n",
      "4       X O X X X\n",
      "5         O O X  \n",
      "6         O      \n",
      "7                \n",
      "AI thinking...\n",
      "AI plays: (5, 7)\n",
      "  0 1 2 3 4 5 6 7\n",
      "0           X X X\n",
      "1         O   X O\n",
      "2         O O O  \n",
      "3       O O O X O\n",
      "4       X O X O O\n",
      "5         O O O O\n",
      "6         O      \n",
      "7                \n",
      "Your turn! Valid moves: [(0, 3), (1, 5), (2, 3), (2, 7), (3, 2), (6, 3), (6, 5), (6, 6), (6, 7)]\n"
     ]
    },
    {
     "name": "stdin",
     "output_type": "stream",
     "text": [
      "Enter row and col (e.g., 2 3):  6 7\n"
     ]
    },
    {
     "name": "stdout",
     "output_type": "stream",
     "text": [
      "  0 1 2 3 4 5 6 7\n",
      "0           X X X\n",
      "1         O   X O\n",
      "2         O O O  \n",
      "3       O O O X O\n",
      "4       X O X O O\n",
      "5         O O X O\n",
      "6         O     X\n",
      "7                \n",
      "AI thinking...\n",
      "AI plays: (2, 7)\n",
      "  0 1 2 3 4 5 6 7\n",
      "0           X X X\n",
      "1         O   X O\n",
      "2         O O O O\n",
      "3       O O O O O\n",
      "4       X O O O O\n",
      "5         O O X O\n",
      "6         O     X\n",
      "7                \n",
      "Your turn! Valid moves: [(2, 3), (5, 3), (6, 5)]\n"
     ]
    },
    {
     "name": "stdin",
     "output_type": "stream",
     "text": [
      "Enter row and col (e.g., 2 3):  6 5\n"
     ]
    },
    {
     "name": "stdout",
     "output_type": "stream",
     "text": [
      "  0 1 2 3 4 5 6 7\n",
      "0           X X X\n",
      "1         O   X O\n",
      "2         O O O O\n",
      "3       O O O O O\n",
      "4       X O O O O\n",
      "5         X O X O\n",
      "6         O X   X\n",
      "7                \n",
      "AI thinking...\n",
      "AI plays: (5, 3)\n",
      "  0 1 2 3 4 5 6 7\n",
      "0           X X X\n",
      "1         O   X O\n",
      "2         O O O O\n",
      "3       O O O O O\n",
      "4       O O O O O\n",
      "5       O O O X O\n",
      "6         O X   X\n",
      "7                \n",
      "Your turn! Valid moves: [(1, 5), (2, 3), (3, 2), (5, 2), (6, 3)]\n"
     ]
    },
    {
     "name": "stdin",
     "output_type": "stream",
     "text": [
      "Enter row and col (e.g., 2 3):  5 2\n"
     ]
    },
    {
     "name": "stdout",
     "output_type": "stream",
     "text": [
      "  0 1 2 3 4 5 6 7\n",
      "0           X X X\n",
      "1         O   X O\n",
      "2         O X O O\n",
      "3       O X O O O\n",
      "4       X O O O O\n",
      "5     X X X X X O\n",
      "6         O X   X\n",
      "7                \n",
      "AI thinking...\n",
      "AI plays: (1, 5)\n",
      "  0 1 2 3 4 5 6 7\n",
      "0           X X X\n",
      "1         O O O O\n",
      "2         O O O O\n",
      "3       O X O O O\n",
      "4       X O O O O\n",
      "5     X X X X X O\n",
      "6         O X   X\n",
      "7                \n",
      "Your turn! Valid moves: [(0, 4), (2, 2), (2, 3), (3, 2), (4, 2), (6, 3), (7, 3), (7, 4), (7, 5)]\n"
     ]
    },
    {
     "name": "stdin",
     "output_type": "stream",
     "text": [
      "Enter row and col (e.g., 2 3):  7 5\n"
     ]
    },
    {
     "name": "stdout",
     "output_type": "stream",
     "text": [
      "  0 1 2 3 4 5 6 7\n",
      "0           X X X\n",
      "1         O O O O\n",
      "2         O O O O\n",
      "3       O X O O O\n",
      "4       X O O O O\n",
      "5     X X X X X O\n",
      "6         X X   X\n",
      "7           X    \n",
      "AI thinking...\n",
      "AI plays: (4, 2)\n",
      "  0 1 2 3 4 5 6 7\n",
      "0           X X X\n",
      "1         O O O O\n",
      "2         O O O O\n",
      "3       O X O O O\n",
      "4     O O O O O O\n",
      "5     X X X X X O\n",
      "6         X X   X\n",
      "7           X    \n",
      "Your turn! Valid moves: [(0, 4), (2, 2), (2, 3), (3, 1), (3, 2), (5, 1)]\n"
     ]
    },
    {
     "name": "stdin",
     "output_type": "stream",
     "text": [
      "Enter row and col (e.g., 2 3):  5 1\n"
     ]
    },
    {
     "name": "stdout",
     "output_type": "stream",
     "text": [
      "  0 1 2 3 4 5 6 7\n",
      "0           X X X\n",
      "1         O X O O\n",
      "2         X O O O\n",
      "3       X X O O O\n",
      "4     X O O O O O\n",
      "5   X X X X X X O\n",
      "6         X X   X\n",
      "7           X    \n",
      "AI thinking...\n",
      "AI plays: (0, 4)\n",
      "  0 1 2 3 4 5 6 7\n",
      "0         O X X X\n",
      "1         O O O O\n",
      "2         X O O O\n",
      "3       X X O O O\n",
      "4     X O O O O O\n",
      "5   X X X X X X O\n",
      "6         X X   X\n",
      "7           X    \n",
      "Your turn! Valid moves: [(0, 3), (2, 3), (3, 2)]\n"
     ]
    },
    {
     "name": "stdin",
     "output_type": "stream",
     "text": [
      "Enter row and col (e.g., 2 3):  0 3\n"
     ]
    },
    {
     "name": "stdout",
     "output_type": "stream",
     "text": [
      "  0 1 2 3 4 5 6 7\n",
      "0       X X X X X\n",
      "1         O O O O\n",
      "2         X O O O\n",
      "3       X X O O O\n",
      "4     X O O O O O\n",
      "5   X X X X X X O\n",
      "6         X X   X\n",
      "7           X    \n",
      "AI thinking...\n",
      "AI plays: (2, 3)\n",
      "  0 1 2 3 4 5 6 7\n",
      "0       X X X X X\n",
      "1         O O O O\n",
      "2       O O O O O\n",
      "3       O O O O O\n",
      "4     X O O O O O\n",
      "5   X X X X X X O\n",
      "6         X X   X\n",
      "7           X    \n",
      "Your turn! Valid moves: [(1, 2), (1, 3), (2, 2), (3, 2)]\n"
     ]
    },
    {
     "name": "stdin",
     "output_type": "stream",
     "text": [
      "Enter row and col (e.g., 2 3):  2 2\n"
     ]
    },
    {
     "name": "stdout",
     "output_type": "stream",
     "text": [
      "  0 1 2 3 4 5 6 7\n",
      "0       X X X X X\n",
      "1         O O O O\n",
      "2     X O O O O O\n",
      "3       X O O O O\n",
      "4     X O X O O O\n",
      "5   X X X X X X O\n",
      "6         X X   X\n",
      "7           X    \n",
      "AI thinking...\n",
      "AI plays: (2, 1)\n",
      "  0 1 2 3 4 5 6 7\n",
      "0       X X X X X\n",
      "1         O O O O\n",
      "2   O O O O O O O\n",
      "3       X O O O O\n",
      "4     X O X O O O\n",
      "5   X X X X X X O\n",
      "6         X X   X\n",
      "7           X    \n",
      "Your turn! Valid moves: [(1, 1), (1, 2), (1, 3), (3, 2)]\n"
     ]
    },
    {
     "name": "stdin",
     "output_type": "stream",
     "text": [
      "Enter row and col (e.g., 2 3):  3 2\n"
     ]
    },
    {
     "name": "stdout",
     "output_type": "stream",
     "text": [
      "  0 1 2 3 4 5 6 7\n",
      "0       X X X X X\n",
      "1         X O O O\n",
      "2   O O X O O O O\n",
      "3     X X O O O O\n",
      "4     X X X O O O\n",
      "5   X X X X X X O\n",
      "6         X X   X\n",
      "7           X    \n",
      "AI thinking...\n",
      "AI plays: (4, 1)\n",
      "  0 1 2 3 4 5 6 7\n",
      "0       X X X X X\n",
      "1         X O O O\n",
      "2   O O X O O O O\n",
      "3     X X O O O O\n",
      "4   O O O O O O O\n",
      "5   X X X X X X O\n",
      "6         X X   X\n",
      "7           X    \n",
      "Your turn! Valid moves: [(1, 0), (1, 1), (1, 2), (2, 0), (3, 0), (3, 1), (5, 0)]\n"
     ]
    },
    {
     "name": "stdin",
     "output_type": "stream",
     "text": [
      "Enter row and col (e.g., 2 3):  5 0\n"
     ]
    },
    {
     "name": "stdout",
     "output_type": "stream",
     "text": [
      "  0 1 2 3 4 5 6 7\n",
      "0       X X X X X\n",
      "1         X O O O\n",
      "2   O O X O O O O\n",
      "3     X X O O O O\n",
      "4   X O O O O O O\n",
      "5 X X X X X X X O\n",
      "6         X X   X\n",
      "7           X    \n",
      "AI thinking...\n",
      "AI plays: (1, 3)\n",
      "  0 1 2 3 4 5 6 7\n",
      "0       X X X X X\n",
      "1       O O O O O\n",
      "2   O O O O O O O\n",
      "3     X O O O O O\n",
      "4   X O O O O O O\n",
      "5 X X X X X X X O\n",
      "6         X X   X\n",
      "7           X    \n",
      "Your turn! Valid moves: [(1, 0), (1, 1), (1, 2), (3, 1)]\n"
     ]
    },
    {
     "name": "stdin",
     "output_type": "stream",
     "text": [
      "Enter row and col (e.g., 2 3):  3 1\n"
     ]
    },
    {
     "name": "stdout",
     "output_type": "stream",
     "text": [
      "  0 1 2 3 4 5 6 7\n",
      "0       X X X X X\n",
      "1       X O O O O\n",
      "2   O X O O O O O\n",
      "3   X X O O O O O\n",
      "4   X X O O O O O\n",
      "5 X X X X X X X O\n",
      "6         X X   X\n",
      "7           X    \n",
      "AI thinking...\n",
      "AI plays: (0, 2)\n",
      "  0 1 2 3 4 5 6 7\n",
      "0     O X X X X X\n",
      "1       O O O O O\n",
      "2   O X O O O O O\n",
      "3   X X O O O O O\n",
      "4   X X O O O O O\n",
      "5 X X X X X X X O\n",
      "6         X X   X\n",
      "7           X    \n",
      "Your turn! Valid moves: [(0, 1), (1, 0), (1, 1), (1, 2), (2, 0)]\n"
     ]
    },
    {
     "name": "stdin",
     "output_type": "stream",
     "text": [
      "Enter row and col (e.g., 2 3):  1 0\n"
     ]
    },
    {
     "name": "stdout",
     "output_type": "stream",
     "text": [
      "  0 1 2 3 4 5 6 7\n",
      "0     O X X X X X\n",
      "1 X     O O O O O\n",
      "2   X X O O O O O\n",
      "3   X X O O O O O\n",
      "4   X X O O O O O\n",
      "5 X X X X X X X O\n",
      "6         X X   X\n",
      "7           X    \n",
      "AI thinking...\n",
      "AI plays: (7, 6)\n",
      "  0 1 2 3 4 5 6 7\n",
      "0     O X X X X X\n",
      "1 X     O O O O O\n",
      "2   X X O O O O O\n",
      "3   X X O O O O O\n",
      "4   X X O O O O O\n",
      "5 X X X X O X X O\n",
      "6         X O   X\n",
      "7           X O  \n",
      "Your turn! Valid moves: [(0, 1), (1, 2), (6, 6), (7, 4), (7, 7)]\n"
     ]
    },
    {
     "name": "stdin",
     "output_type": "stream",
     "text": [
      "Enter row and col (e.g., 2 3):  6 6\n"
     ]
    },
    {
     "name": "stdout",
     "output_type": "stream",
     "text": [
      "  0 1 2 3 4 5 6 7\n",
      "0     O X X X X X\n",
      "1 X     O O O O O\n",
      "2   X X O O O O O\n",
      "3   X X O O O O O\n",
      "4   X X O O O O O\n",
      "5 X X X X O X X O\n",
      "6         X X X X\n",
      "7           X O  \n",
      "AI thinking...\n",
      "AI plays: (7, 4)\n",
      "  0 1 2 3 4 5 6 7\n",
      "0     O X X X X X\n",
      "1 X     O O O O O\n",
      "2   X X O O O O O\n",
      "3   X X O O O O O\n",
      "4   X X O O O O O\n",
      "5 X X X X O X O O\n",
      "6         O O X X\n",
      "7         O O O  \n",
      "Your turn! Valid moves: [(0, 1), (1, 2), (6, 3), (7, 3)]\n"
     ]
    },
    {
     "name": "stdin",
     "output_type": "stream",
     "text": [
      "Enter row and col (e.g., 2 3):  7 3\n"
     ]
    },
    {
     "name": "stdout",
     "output_type": "stream",
     "text": [
      "  0 1 2 3 4 5 6 7\n",
      "0     O X X X X X\n",
      "1 X     O O O O O\n",
      "2   X X O O O O O\n",
      "3   X X O O O O O\n",
      "4   X X O O O O O\n",
      "5 X X X X O X O O\n",
      "6         X O X X\n",
      "7       X O O O  \n",
      "AI thinking...\n",
      "AI plays: (7, 7)\n",
      "  0 1 2 3 4 5 6 7\n",
      "0     O X X X X X\n",
      "1 X     O O O O O\n",
      "2   X X O O O O O\n",
      "3   X X O O O O O\n",
      "4   X X O O O O O\n",
      "5 X X X X O O O O\n",
      "6         X O O O\n",
      "7       X O O O O\n",
      "Your turn! Valid moves: [(0, 1)]\n"
     ]
    },
    {
     "name": "stdin",
     "output_type": "stream",
     "text": [
      "Enter row and col (e.g., 2 3):  0 1\n"
     ]
    },
    {
     "name": "stdout",
     "output_type": "stream",
     "text": [
      "  0 1 2 3 4 5 6 7\n",
      "0   X X X X X X X\n",
      "1 X     O O O O O\n",
      "2   X X O O O O O\n",
      "3   X X O O O O O\n",
      "4   X X O O O O O\n",
      "5 X X X X O O O O\n",
      "6         X O O O\n",
      "7       X O O O O\n",
      "AI thinking...\n",
      "AI plays: (2, 0)\n",
      "  0 1 2 3 4 5 6 7\n",
      "0   X X X X X X X\n",
      "1 X     O O O O O\n",
      "2 O O O O O O O O\n",
      "3   O X O O O O O\n",
      "4   X O O O O O O\n",
      "5 X X X O O O O O\n",
      "6         O O O O\n",
      "7       X O O O O\n",
      "Your turn! Valid moves: [(1, 1), (1, 2), (3, 0), (4, 0), (6, 3)]\n"
     ]
    },
    {
     "name": "stdin",
     "output_type": "stream",
     "text": [
      "Enter row and col (e.g., 2 3):  3 0\n"
     ]
    },
    {
     "name": "stdout",
     "output_type": "stream",
     "text": [
      "  0 1 2 3 4 5 6 7\n",
      "0   X X X X X X X\n",
      "1 X     O O O O O\n",
      "2 X O O O O O O O\n",
      "3 X X X O O O O O\n",
      "4   X O O O O O O\n",
      "5 X X X O O O O O\n",
      "6         O O O O\n",
      "7       X O O O O\n",
      "AI thinking...\n",
      "AI plays: (4, 0)\n",
      "  0 1 2 3 4 5 6 7\n",
      "0   X X X X X X X\n",
      "1 X     O O O O O\n",
      "2 X O O O O O O O\n",
      "3 X O X O O O O O\n",
      "4 O O O O O O O O\n",
      "5 X X X O O O O O\n",
      "6         O O O O\n",
      "7       X O O O O\n",
      "Your turn! Valid moves: [(1, 1), (1, 2), (6, 3)]\n"
     ]
    },
    {
     "name": "stdin",
     "output_type": "stream",
     "text": [
      "Enter row and col (e.g., 2 3):  6 3\n"
     ]
    },
    {
     "name": "stdout",
     "output_type": "stream",
     "text": [
      "  0 1 2 3 4 5 6 7\n",
      "0   X X X X X X X\n",
      "1 X     X O O O O\n",
      "2 X O O X O O O O\n",
      "3 X O X X O O O O\n",
      "4 O O O X O O O O\n",
      "5 X X X X O O O O\n",
      "6       X O O O O\n",
      "7       X O O O O\n",
      "AI thinking...\n",
      "AI plays: (0, 0)\n",
      "  0 1 2 3 4 5 6 7\n",
      "0 O X X X X X X X\n",
      "1 O     X O O O O\n",
      "2 O O O X O O O O\n",
      "3 O O X X O O O O\n",
      "4 O O O X O O O O\n",
      "5 X X X X O O O O\n",
      "6       X O O O O\n",
      "7       X O O O O\n",
      "Your turn! Valid moves: [(1, 1), (1, 2)]\n"
     ]
    },
    {
     "name": "stdin",
     "output_type": "stream",
     "text": [
      "Enter row and col (e.g., 2 3):  1 1\n"
     ]
    },
    {
     "name": "stdout",
     "output_type": "stream",
     "text": [
      "  0 1 2 3 4 5 6 7\n",
      "0 O X X X X X X X\n",
      "1 O X   X O O O O\n",
      "2 O X X X O O O O\n",
      "3 O X X X O O O O\n",
      "4 O X O X O O O O\n",
      "5 X X X X O O O O\n",
      "6       X O O O O\n",
      "7       X O O O O\n",
      "AI thinking...\n",
      "AI plays: (6, 0)\n",
      "  0 1 2 3 4 5 6 7\n",
      "0 O X X X X X X X\n",
      "1 O X   X O O O O\n",
      "2 O X X X O O O O\n",
      "3 O X X X O O O O\n",
      "4 O X O X O O O O\n",
      "5 O O X X O O O O\n",
      "6 O     X O O O O\n",
      "7       X O O O O\n",
      "Your turn! Valid moves: [(6, 1)]\n"
     ]
    },
    {
     "name": "stdin",
     "output_type": "stream",
     "text": [
      "Enter row and col (e.g., 2 3):  6 1\n"
     ]
    },
    {
     "name": "stdout",
     "output_type": "stream",
     "text": [
      "  0 1 2 3 4 5 6 7\n",
      "0 O X X X X X X X\n",
      "1 O X   X O O O O\n",
      "2 O X X X O O O O\n",
      "3 O X X X O O O O\n",
      "4 O X O X O O O O\n",
      "5 O X X X O O O O\n",
      "6 O X   X O O O O\n",
      "7       X O O O O\n",
      "AI thinking...\n",
      "AI plays: (7, 2)\n",
      "  0 1 2 3 4 5 6 7\n",
      "0 O X X X X X X X\n",
      "1 O X   X O O O O\n",
      "2 O X X X O O O O\n",
      "3 O X X X O O O O\n",
      "4 O X O X O O O O\n",
      "5 O X X X O O O O\n",
      "6 O O   O O O O O\n",
      "7     O O O O O O\n",
      "Your turn! Valid moves: [(7, 0), (7, 1)]\n"
     ]
    },
    {
     "name": "stdin",
     "output_type": "stream",
     "text": [
      "Enter row and col (e.g., 2 3):  7 1\n"
     ]
    },
    {
     "name": "stdout",
     "output_type": "stream",
     "text": [
      "  0 1 2 3 4 5 6 7\n",
      "0 O X X X X X X X\n",
      "1 O X   X O O O O\n",
      "2 O X X X O O O O\n",
      "3 O X X X O O O O\n",
      "4 O X O X O O O O\n",
      "5 O X X X O O O O\n",
      "6 O X   O O O O O\n",
      "7   X O O O O O O\n",
      "AI thinking...\n",
      "AI plays: (7, 0)\n",
      "  0 1 2 3 4 5 6 7\n",
      "0 O X X X X X X X\n",
      "1 O X   X O O O O\n",
      "2 O X X X O O O O\n",
      "3 O X X X O O O O\n",
      "4 O X O O O O O O\n",
      "5 O X O X O O O O\n",
      "6 O O   O O O O O\n",
      "7 O O O O O O O O\n",
      "Your turn! Valid moves: [(6, 2)]\n"
     ]
    },
    {
     "name": "stdin",
     "output_type": "stream",
     "text": [
      "Enter row and col (e.g., 2 3):  6 2\n"
     ]
    },
    {
     "name": "stdout",
     "output_type": "stream",
     "text": [
      "  0 1 2 3 4 5 6 7\n",
      "0 O X X X X X X X\n",
      "1 O X   X O O O O\n",
      "2 O X X X O O O O\n",
      "3 O X X X O O O O\n",
      "4 O X X O O O O O\n",
      "5 O X X X O O O O\n",
      "6 O O X O O O O O\n",
      "7 O O O O O O O O\n",
      "AI thinking...\n",
      "AI plays: (1, 2)\n",
      "  0 1 2 3 4 5 6 7\n",
      "0 O X X X X X X X\n",
      "1 O O O O O O O O\n",
      "2 O O O O O O O O\n",
      "3 O X O X O O O O\n",
      "4 O X O O O O O O\n",
      "5 O X O X O O O O\n",
      "6 O O O O O O O O\n",
      "7 O O O O O O O O\n",
      "AI wins!\n"
     ]
    }
   ],
   "source": [
    "###### import math\n",
    "import random\n",
    "\n",
    "# Initialize board (8x8)\n",
    "def create_board():\n",
    "    board = [[\" \" for _ in range(8)] for _ in range(8)]\n",
    "    board[3][3], board[4][4] = \"O\", \"O\"\n",
    "    board[3][4], board[4][3] = \"X\", \"X\"\n",
    "    return board\n",
    "\n",
    "# Display board\n",
    "def print_board(board):\n",
    "    print(\"  \" + \" \".join(str(i) for i in range(8)))\n",
    "    for idx, row in enumerate(board):\n",
    "        print(idx, \" \".join(row))\n",
    "\n",
    "# Directions (8 neighbors)\n",
    "DIRECTIONS = [(-1,-1), (-1,0), (-1,1),\n",
    "              (0,-1),         (0,1),\n",
    "              (1,-1),  (1,0), (1,1)]\n",
    "\n",
    "# Check if move is valid\n",
    "def is_valid_move(board, row, col, player):\n",
    "    if board[row][col] != \" \":\n",
    "        return False\n",
    "    opponent = \"O\" if player == \"X\" else \"X\"\n",
    "    flips = []\n",
    "    for dr, dc in DIRECTIONS:\n",
    "        r, c = row+dr, col+dc\n",
    "        line = []\n",
    "        while 0 <= r < 8 and 0 <= c < 8 and board[r][c] == opponent:\n",
    "            line.append((r,c))\n",
    "            r += dr\n",
    "            c += dc\n",
    "        if line and 0 <= r < 8 and 0 <= c < 8 and board[r][c] == player:\n",
    "            flips.extend(line)\n",
    "    return flips if flips else False\n",
    "\n",
    "# Get all valid moves\n",
    "def valid_moves(board, player):\n",
    "    moves = []\n",
    "    for r in range(8):\n",
    "        for c in range(8):\n",
    "            if is_valid_move(board, r, c, player):\n",
    "                moves.append((r,c))\n",
    "    return moves\n",
    "\n",
    "# Apply move\n",
    "def make_move(board, row, col, player):\n",
    "    flips = is_valid_move(board, row, col, player)\n",
    "    if not flips:\n",
    "        return False\n",
    "    board[row][col] = player\n",
    "    for r,c in flips:\n",
    "        board[r][c] = player\n",
    "    return True\n",
    "\n",
    "# Evaluation: disc difference\n",
    "def evaluate_board(board):\n",
    "    x_count = sum(row.count(\"X\") for row in board)\n",
    "    o_count = sum(row.count(\"O\") for row in board)\n",
    "    return x_count - o_count\n",
    "\n",
    "# Alpha-beta search\n",
    "def alphabeta(board, depth, alpha, beta, maximizing_player):\n",
    "    if depth == 0 or is_game_over(board):\n",
    "        return evaluate_board(board), None\n",
    "\n",
    "    player = \"X\" if maximizing_player else \"O\"\n",
    "    moves = valid_moves(board, player)\n",
    "    if not moves:\n",
    "        return evaluate_board(board), None\n",
    "\n",
    "    best_move = None\n",
    "    if maximizing_player:  # Human\n",
    "        max_eval = -math.inf\n",
    "        for move in moves:\n",
    "            new_board = [row[:] for row in board]\n",
    "            make_move(new_board, move[0], move[1], player)\n",
    "            eval, _ = alphabeta(new_board, depth-1, alpha, beta, False)\n",
    "            if eval > max_eval:\n",
    "                max_eval = eval\n",
    "                best_move = move\n",
    "            alpha = max(alpha, eval)\n",
    "            if beta <= alpha:\n",
    "                break\n",
    "        return max_eval, best_move\n",
    "    else:  # AI\n",
    "        min_eval = math.inf\n",
    "        for move in moves:\n",
    "            new_board = [row[:] for row in board]\n",
    "            make_move(new_board, move[0], move[1], player)\n",
    "            eval, _ = alphabeta(new_board, depth-1, alpha, beta, True)\n",
    "            if eval < min_eval:\n",
    "                min_eval = eval\n",
    "                best_move = move\n",
    "            beta = min(beta, eval)\n",
    "            if beta <= alpha:\n",
    "                break\n",
    "        return min_eval, best_move\n",
    "\n",
    "# Check if game is over\n",
    "def is_game_over(board):\n",
    "    return not valid_moves(board, \"X\") and not valid_moves(board, \"O\")\n",
    "\n",
    "# Main game loop\n",
    "def play_game():\n",
    "    board = create_board()\n",
    "    current_player = \"X\"  # Human goes first\n",
    "\n",
    "    while not is_game_over(board):\n",
    "        print_board(board)\n",
    "        moves = valid_moves(board, current_player)\n",
    "\n",
    "        if not moves:\n",
    "            print(f\"{current_player} has no valid moves, skipping turn.\")\n",
    "            current_player = \"O\" if current_player == \"X\" else \"X\"\n",
    "            continue\n",
    "\n",
    "        if current_player == \"X\":\n",
    "            print(\"Your turn! Valid moves:\", moves)\n",
    "            try:\n",
    "                row, col = map(int, input(\"Enter row and col (e.g., 2 3): \").split())\n",
    "                if (row, col) in moves:\n",
    "                    make_move(board, row, col, \"X\")\n",
    "                    current_player = \"O\"\n",
    "                else:\n",
    "                    print(\"Invalid move, try again.\")\n",
    "            except:\n",
    "                print(\"Invalid input, try again.\")\n",
    "        else:\n",
    "            print(\"AI thinking...\")\n",
    "            _, move = alphabeta(board, depth=3, alpha=-math.inf, beta=math.inf, maximizing_player=False)\n",
    "            if move:\n",
    "                make_move(board, move[0], move[1], \"O\")\n",
    "                print(f\"AI plays: {move}\")\n",
    "            current_player = \"X\"\n",
    "\n",
    "    # Final board\n",
    "    print_board(board)\n",
    "    score = evaluate_board(board)\n",
    "    if score > 0:\n",
    "        print(\"You win!\")\n",
    "    elif score < 0:\n",
    "        print(\"AI wins!\")\n",
    "    else:\n",
    "        print(\"It's a draw!\")\n",
    "\n",
    "# Run the game\n",
    "play_game()\n"
   ]
  },
  {
   "cell_type": "markdown",
   "id": "a287046b",
   "metadata": {},
   "source": [
    "# DEFUZZIFICATIONS"
   ]
  },
  {
   "cell_type": "code",
   "execution_count": 18,
   "id": "79c807bf",
   "metadata": {},
   "outputs": [
    {
     "name": "stdout",
     "output_type": "stream",
     "text": [
      "At 25°C:\n",
      "Cold Membership: 0.00\n",
      "Comfortable Membership: 0.83\n",
      "Hot Membership: 0.00\n",
      "Crisp Output (Net Action): 0.00%\n",
      "No action required: Temperature is balanced.\n"
     ]
    },
    {
     "data": {
      "image/png": "[encoded data removed]",
      "text/plain": [
       "<Figure size 800x600 with 1 Axes>"
      ]
     },
     "metadata": {},
     "output_type": "display_data"
    }
   ],
   "source": [
    "import numpy as np\n",
    "import matplotlib.pyplot as plt\n",
    "\n",
    "# Membership functions\n",
    "def cold_membership(temp):\n",
    "    \"\"\"Membership function for 'Cold' temperature.\"\"\" \n",
    "    return np.maximum(0, np.minimum(1, (20 - temp) / 10))\n",
    "def comfortable_membership(temp):\n",
    "    \"\"\"Membership function for 'Comfortable' temperature.\"\"\"\n",
    "    return np.maximum(0, np.minimum((temp - 18) / 6, (30 - temp) / 6)) \n",
    "def hot_membership(temp):\n",
    "    \"\"\"Membership function for 'Hot' temperature.\"\"\"\n",
    "    return np.maximum(0, np.minimum(1, (temp - 28) / 10))\n",
    "\n",
    "# Fuzzy rules\n",
    "def heating_degree(temp):\n",
    "    \"\"\"Heating percentage based on 'Cold' membership.\"\"\"\n",
    "    return cold_membership(temp) * 100 # Heating required in percentage \n",
    "def cooling_degree(temp):\n",
    "    \"\"\"Cooling percentage based on 'Hot' membership.\"\"\"\n",
    "    return hot_membership(temp) * 100 # Cooling required in percentage \n",
    "def defuzzify(temp):\n",
    "    \"\"\"Compute the crisp output as the weighted average of heating and cooling.\"\"\" \n",
    "    heating = heating_degree(temp)\n",
    "    cooling = cooling_degree(temp)\n",
    "    net_action = heating - cooling # Positive for heating, negative for cooling \n",
    "    return net_action\n",
    "\n",
    "# Simulating the system for 25°C \n",
    "temperature = 25\n",
    "cold_degree = cold_membership(temperature) \n",
    "comfortable_degree = comfortable_membership(temperature) \n",
    "hot_degree = hot_membership(temperature)\n",
    "crisp_output = defuzzify(temperature)\n",
    "\n",
    "print(f\"At {temperature}°C:\")\n",
    "print(f\"Cold Membership: {cold_degree:.2f}\") \n",
    "print(f\"Comfortable Membership: {comfortable_degree:.2f}\") \n",
    "print(f\"Hot Membership: {hot_degree:.2f}\")\n",
    "print(f\"Crisp Output (Net Action): {crisp_output:.2f}%\") \n",
    "\n",
    "if crisp_output > 0:\n",
    "    print(f\"Heating required: {crisp_output:.2f}%\") \n",
    "elif crisp_output < 0:\n",
    "    print(f\"Cooling required: {abs(crisp_output):.2f}%\") \n",
    "else:\n",
    "    print(\"No action required: Temperature is balanced.\") # Visualizing membership functions\n",
    "    \n",
    "def plot_membership_functions():\n",
    "    \"\"\"Plot the membership functions for 'Cold,' 'Comfortable,' and 'Hot'.\"\"\" \n",
    "    temperature_range = np.linspace(0, 40, 100)\n",
    "    cold = [cold_membership(t) \n",
    "    for t in temperature_range]\n",
    "    comfortable = [comfortable_membership(t) \n",
    "    for t in temperature_range] \n",
    "    hot = [hot_membership(t) \n",
    "    for t in temperature_range] \n",
    "    plt.figure(figsize=(8, 6))\n",
    "    plt.plot(temperature_range, cold, label=\"Cold\", color=\"blue\") \n",
    "    plt.plot(temperature_range, comfortable, label=\"Comfortable\", color=\"green\") \n",
    "    plt.plot(temperature_range, hot, label=\"Hot\", color=\"red\")\n",
    "    plt.axvline(x=temperature, color='purple', linestyle='--', label=f\"Current Temp: {temperature}°C\") \n",
    "    plt.title(\"Temperature Membership Functions\")\n",
    "    plt.xlabel(\"Temperature (°C)\") \n",
    "    plt.ylabel(\"Membership Degree\") \n",
    "    plt.legend()\n",
    "    plt.grid(True) \n",
    "    plt.show()\n",
    "    \n",
    "plot_membership_functions()\n"
   ]
  },
  {
   "cell_type": "code",
   "execution_count": 8,
   "id": "d0e67374",
   "metadata": {},
   "outputs": [
    {
     "name": "stdout",
     "output_type": "stream",
     "text": [
      "Crisp Output Speed: 52.222222222222214\n"
     ]
    }
   ],
   "source": [
    "def fuzzy_speed_control(slipperiness):\n",
    "    slippery_speed = max(0, min(1, 1 - slipperiness))\n",
    "    normal_speed = max(0, min(1, 1 - abs(slipperiness - 0.5) * 2))\n",
    "    dry_speed = max(0, min(1, slipperiness)) \n",
    "    return slippery_speed, normal_speed, dry_speed\n",
    "def defuzzify(slippery_speed, normal_speed, dry_speed):\n",
    "    speeds = {\n",
    "        'slippery': 30,\n",
    "        'normal': 50,  \n",
    "        'dry': 70      \n",
    "    }\n",
    "    numerator = (speeds['slippery'] * slippery_speed +\n",
    "                 speeds['normal'] * normal_speed +\n",
    "                 speeds['dry'] * dry_speed)\n",
    "    denominator = (slippery_speed + normal_speed + dry_speed)\n",
    "    return numerator / denominator if denominator != 0    else 0\n",
    "slipperiness_value = 0.6\n",
    "slippery_speed, normal_speed, dry_speed = fuzzy_speed_control(slipperiness_value)\n",
    "crisp_output = defuzzify(slippery_speed, normal_speed, dry_speed)\n",
    "print(f'Crisp Output Speed: {crisp_output}')\n"
   ]
  },
  {
   "cell_type": "markdown",
   "id": "0915adb3",
   "metadata": {},
   "source": [
    "# RULE EVALUATION"
   ]
  },
  {
   "cell_type": "code",
   "execution_count": 9,
   "id": "e137a349",
   "metadata": {},
   "outputs": [
    {
     "data": {
      "image/png": "[encoded data removed]",
      "text/plain": [
       "<Figure size 800x600 with 1 Axes>"
      ]
     },
     "metadata": {},
     "output_type": "display_data"
    }
   ],
   "source": [
    "import numpy as np\n",
    "import matplotlib.pyplot as plt\n",
    "\n",
    "# Membership functions for \"Cold,\" \"Comfortable,\" and \"Hot\" \n",
    "def cold_membership(temp):\n",
    "    \"\"\"Membership function for 'Cold' temperature.\"\"\"\n",
    "    return np.maximum(0, np.minimum(1, (20 - temp) / 10)) # Triangle with peak at 10°C \n",
    "def comfortable_membership(temp):\n",
    "    \"\"\"Membership function for 'Comfortable' temperature.\"\"\"\n",
    "    return np.maximum(0, np.minimum((temp - 18) / 6, (30 - temp) / 6)) # Trapezoidal shape \n",
    "def hot_membership(temp):\n",
    "    \"\"\"Membership function for 'Hot' temperature.\"\"\"\n",
    "    return np.maximum(0, np.minimum(1, (temp - 28) / 10)) # Triangle with peak at 40°C\n",
    "\n",
    "# Rule-based control actions \n",
    "def control_action(temp):\n",
    "    \"\"\"Determine control action based on fuzzy rules.\"\"\" \n",
    "    cold_degree = cold_membership(temp) \n",
    "    comfortable_degree = comfortable_membership(temp) \n",
    "    hot_degree = hot_membership(temp)\n",
    "\n",
    "# Rule evaluation\n",
    "    if cold_degree > max(comfortable_degree, hot_degree): \n",
    "        return \"Increase heating\"\n",
    "    elif comfortable_degree > max(cold_degree, hot_degree): \n",
    "        return \"Maintain current setting\"\n",
    "    elif hot_degree > max(cold_degree, comfortable_degree): \n",
    "        return \"Increase cooling\"\n",
    "# Simulate the system for specific temperatures \n",
    "    temperatures = [18, 24, 32]\n",
    "    actions = []\n",
    "\n",
    "    for temp in temperatures:\n",
    "        action = control_action(temp) \n",
    "        actions.append((temp, action))\n",
    "        print(f\"At {temp}°C, the system suggests: {action}\") # Visualizing membership functions\n",
    "def plot_membership_functions():\n",
    "    \"\"\"Plot the membership functions for 'Cold,' 'Comfortable,' and 'Hot'.\"\"\" \n",
    "    temperature_range = np.linspace(0, 40, 100)\n",
    "    cold = [cold_membership(t) for t in temperature_range]\n",
    "    comfortable = [comfortable_membership(t) for t in temperature_range] \n",
    "    hot = [hot_membership(t) for t in temperature_range]\n",
    "    plt.figure(figsize=(8, 6))\n",
    "    plt.plot(temperature_range, cold, label=\"Cold\", color=\"blue\") \n",
    "    plt.plot(temperature_range, comfortable, label=\"Comfortable\", color=\"green\") \n",
    "    plt.plot(temperature_range, hot, label=\"Hot\", color=\"red\") \n",
    "    plt.title(\"Temperature Membership Functions\")\n",
    "    plt.xlabel(\"Temperature (°C)\") \n",
    "    plt.ylabel(\"Membership Degree\") \n",
    "    plt.legend()\n",
    "    plt.grid(True) \n",
    "    plt.show()\n",
    "# Plot the membership functions plot_membership_functions()\n",
    "plot_membership_functions()"
   ]
  },
  {
   "cell_type": "code",
   "execution_count": null,
   "id": "67afd208",
   "metadata": {},
   "outputs": [],
   "source": []
  }
 ],
 "metadata": {
  "kernelspec": {
   "display_name": "Python (CIFAR10)",
   "language": "python",
   "name": "cifar10"
  },
  "language_info": {
   "codemirror_mode": {
    "name": "ipython",
    "version": 3
   },
   "file_extension": ".py",
   "mimetype": "text/x-python",
   "name": "python",
   "nbconvert_exporter": "python",
   "pygments_lexer": "ipython3",
   "version": "3.12.10"
  }
 },
 "nbformat": 4,
 "nbformat_minor": 5
}
