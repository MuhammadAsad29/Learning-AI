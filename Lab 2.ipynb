{
 "cells": [
  {
   "cell_type": "code",
   "execution_count": 7,
   "id": "72634445",
   "metadata": {
    "lines_to_next_cell": 2
   },
   "outputs": [
    {
     "name": "stdout",
     "output_type": "stream",
     "text": [
      "Completed task: Develop model for goal based agent\n"
     ]
    }
   ],
   "source": [
    "import time\n",
    "\n",
    "class Task:\n",
    "    def __init__(self, name, priority, deadline):\n",
    "        self.name = name\n",
    "        self.priority = priority\n",
    "        self.deadline = deadline\n",
    "        self.completed = False\n",
    "    \n",
    "class ProjectManagementAgent:\n",
    "    def __init__(self):\n",
    "        self.tasks = [ ]\n",
    "    def add_task(self, task):\n",
    "        self.tasks.append(task)\n",
    "    \n",
    "    def choose_next_task(self):\n",
    " # Sort tasks by priority (higher priority first) and deadline\n",
    "        self.tasks.sort(key=lambda x: (-x.priority, x.deadline))\n",
    "        for task in self.tasks:\n",
    "            if not task.completed:\n",
    "                return task\n",
    "            return None\n",
    "    \n",
    "    def complete_task(self, task):\n",
    "        task.completed = True\n",
    "        print(f\"Completed task: {task.name}\")\n",
    "    \n",
    "    def run(self):\n",
    "        while True:\n",
    "            task = self.choose_next_task()\n",
    "            if task is None:\n",
    "                print(\"All tasks are completed!\")\n",
    "            break\n",
    "        self.complete_task(task)\n",
    "# Set up the project management agent\n",
    "if __name__ == \"__main__\":\n",
    "    agent = ProjectManagementAgent()\n",
    " # Adding tasks with (name, priority, deadline)\n",
    "    agent.add_task(Task(\"Design goal based agent\", priority=1, deadline=\"2024-10-25\"))\n",
    "    agent.add_task(Task(\"Develop model for goal based agent\", priority=3, deadline=\"2024-10-30\"))\n",
    "    agent.add_task(Task(\"Create project management system\", priority=2, deadline=\"2024-10-20\"))\n",
    "    agent.run()"
   ]
  },
  {
   "cell_type": "code",
   "execution_count": 9,
   "id": "ccf66ac5",
   "metadata": {
    "lines_to_next_cell": 2
   },
   "outputs": [
    {
     "name": "stdout",
     "output_type": "stream",
     "text": [
      "Completed task: Defeated an opponent.\n"
     ]
    }
   ],
   "source": [
    "import time\n",
    "\n",
    "class Task:\n",
    "    def __init__(self, name, priority):\n",
    "        self.name = name\n",
    "        self.priority = priority\n",
    "        self.completed = False\n",
    "    \n",
    "class AI_character:\n",
    "    def __init__(self):\n",
    "        self.tasks = [ ]\n",
    "    def add_task(self, task):\n",
    "        self.tasks.append(task)\n",
    "    \n",
    "    def choose_next_task(self):\n",
    " # Sort tasks by priority (higher priority first) and deadline\n",
    "        self.tasks.sort(key=lambda x: (-x.priority, x))\n",
    "        for task in self.tasks:\n",
    "            if not task.completed:\n",
    "                return task\n",
    "            return None\n",
    "    \n",
    "    def complete_task(self, task):\n",
    "        task.completed = True\n",
    "        print(f\"Completed task: {task.name}\")\n",
    "    \n",
    "    def run(self):\n",
    "        while True:\n",
    "            task = self.choose_next_task()\n",
    "            if task is None:\n",
    "                print(\"All tasks are completed!\")\n",
    "            break\n",
    "        self.complete_task(task)\n",
    "        time.sleep(1)\n",
    "# Set up the project management agent\n",
    "if __name__ == \"__main__\":\n",
    "    agent = AI_character()\n",
    " # Adding tasks with (name, priority, deadline)\n",
    "    agent.add_task(Task(\"Defended a location.\", priority=1))\n",
    "    agent.add_task(Task(\"Defeated an opponent.\", priority=2))\n",
    "    agent.run()"
   ]
  },
  {
   "cell_type": "code",
   "execution_count": null,
   "id": "3de77d59",
   "metadata": {},
   "outputs": [],
   "source": []
  }
 ],
 "metadata": {
  "jupytext": {
   "cell_metadata_filter": "-all",
   "main_language": "python",
   "notebook_metadata_filter": "-all"
  },
  "kernelspec": {
   "display_name": "Python (CIFAR10)",
   "language": "python",
   "name": "cifar10"
  },
  "language_info": {
   "codemirror_mode": {
    "name": "ipython",
    "version": 3
   },
   "file_extension": ".py",
   "mimetype": "text/x-python",
   "name": "python",
   "nbconvert_exporter": "python",
   "pygments_lexer": "ipython3",
   "version": "3.12.10"
  }
 },
 "nbformat": 4,
 "nbformat_minor": 5
}
