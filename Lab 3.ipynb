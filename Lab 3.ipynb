{
 "cells": [
  {
   "cell_type": "code",
   "execution_count": 1,
   "id": "1f7745c8",
   "metadata": {
    "lines_to_next_cell": 2
   },
   "outputs": [
    {
     "name": "stdout",
     "output_type": "stream",
     "text": [
      "Initial Recommendations: ['Horror Movie', 'Thriller Movie']\n",
      "User starts watching more thriller movies\n",
      "Updated Recommendations: ['Horror Movie', 'thriller 2']\n"
     ]
    }
   ],
   "source": [
    "class UserProfile:\n",
    "    def __init__(self, name):\n",
    "        self.name = name\n",
    "        self.preferences = {} # Dictionary to hold preferences for genres\n",
    "        self.history = [] # Track viewed items\n",
    "    def update_preferences(self, item, rating):\n",
    "        item = item.strip()\n",
    "# Update preferences based on item ratings\n",
    "        if item in self.preferences:\n",
    "            self.preferences[item] += rating\n",
    "        else:\n",
    "            self.preferences[item] = rating\n",
    "            self.history.append(item) # Add item to viewing history\n",
    "            \n",
    "class RecommendationAgent:\n",
    "    def __init__(self):\n",
    "        self.recommendations = {} # Dictionary to hold recommendations for users\n",
    "    def recommend(self, user):\n",
    "# Recommend items based on user preferences\n",
    "        sorted_preferences = sorted(user.preferences.items(), key=lambda x: x[1], reverse=True)\n",
    "        return [item for item, _ in sorted_preferences][: 2 ]\n",
    "    def adapt(self, user, new_item, rating):\n",
    "# Adapt recommendations based on new item ratings\n",
    "        user.update_preferences(new_item, rating)\n",
    "# Simulate a user and a recommendation agent\n",
    "if __name__ == \"__main__\":\n",
    "# Create a new user profile\n",
    "        user = UserProfile(name=\"Alice\")\n",
    "        agent = RecommendationAgent()\n",
    "# Simulate initial preferences\n",
    "        user.update_preferences(\"Horror Movie\", 4)\n",
    "        user.update_preferences(\"Thriller Movie\", 3)\n",
    "        print(\"Initial Recommendations:\", agent.recommend(user))\n",
    "# Simulate a change in preferences over time\n",
    "        print(\"User starts watching more thriller movies\")\n",
    "        agent.adapt(user, \" thriller 2 \", 4 )\n",
    "        agent.adapt(user, \" thriller 3 \", 3 )\n",
    "        print(\"Updated Recommendations:\", agent.recommend(user))"
   ]
  },
  {
   "cell_type": "code",
   "execution_count": null,
   "id": "be0b2c6f",
   "metadata": {},
   "outputs": [],
   "source": []
  }
 ],
 "metadata": {
  "jupytext": {
   "cell_metadata_filter": "-all",
   "main_language": "python",
   "notebook_metadata_filter": "-all"
  },
  "kernelspec": {
   "display_name": "Python 3 (ipykernel)",
   "language": "python",
   "name": "python3"
  },
  "language_info": {
   "codemirror_mode": {
    "name": "ipython",
    "version": 3
   },
   "file_extension": ".py",
   "mimetype": "text/x-python",
   "name": "python",
   "nbconvert_exporter": "python",
   "pygments_lexer": "ipython3",
   "version": "3.11.7"
  }
 },
 "nbformat": 4,
 "nbformat_minor": 5
}
